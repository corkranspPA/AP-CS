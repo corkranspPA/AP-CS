{
 "cells": [
  {
   "attachments": {},
   "cell_type": "markdown",
   "metadata": {},
   "source": [
    "# Choose Your Own Adventure Lab\n",
    "\n",
    "## What to do\n",
    "\n",
    "You will use ‘if’ and ‘else’ statements to create a simple game of your own.  Try not to get too ambitious; the amount of work you have to do goes up exponentially the longer your game is.  The player should, however, be able to make at least three choices.  Every choice should have an else statement that prints something along the lines of “I didn’t understand that” or even just “Invalid input”, after which the program will end.\n",
    "\n",
    "Use the Scanner class to get user input."
   ]
  },
  {
   "cell_type": "code",
   "execution_count": 24,
   "metadata": {
    "vscode": {
     "languageId": "java"
    }
   },
   "outputs": [],
   "source": [
    "Scanner input = new Scanner(System.in);"
   ]
  },
  {
   "attachments": {},
   "cell_type": "markdown",
   "metadata": {},
   "source": [
    "Start with an initial prompt, like so:"
   ]
  },
  {
   "cell_type": "code",
   "execution_count": 25,
   "metadata": {
    "vscode": {
     "languageId": "java"
    }
   },
   "outputs": [
    {
     "name": "stdout",
     "output_type": "stream",
     "text": [
      "You find yourself at an intersection (East/West)\n"
     ]
    }
   ],
   "source": [
    "System.out.println(\"You find yourself at an intersection (East/West)\");"
   ]
  },
  {
   "attachments": {},
   "cell_type": "markdown",
   "metadata": {},
   "source": [
    " Now, it's time for the user to respond.  To get user input, assign a String variable to input.nextLine() like so:"
   ]
  },
  {
   "cell_type": "code",
   "execution_count": 26,
   "metadata": {
    "vscode": {
     "languageId": "java"
    }
   },
   "outputs": [],
   "source": [
    "String line = input.nextLine();"
   ]
  },
  {
   "attachments": {},
   "cell_type": "markdown",
   "metadata": {},
   "source": [
    "Finally, have your program react to their input.  \"East\" will lead to another\n",
    "prompt. Give it a try below! "
   ]
  },
  {
   "cell_type": "code",
   "execution_count": 27,
   "metadata": {
    "vscode": {
     "languageId": "java"
    }
   },
   "outputs": [],
   "source": [
    "if (line.equals(\"East\")) {\n",
    "    System.out.println(\"you went East.  Now what do you do? (North/South)?\");\n",
    "    line = input.nextLine();\n",
    "    if(line.equals(\"North\")) {\n",
    "        System.out.println(\"you went North.\");\n",
    "    }\n",
    "    else if(line.equals(\"South\")) {\n",
    "        System.out.println(\"you went South.\");\n",
    "    }\n",
    "    else {\n",
    "        System.out.println(\"I didn’t understand that!\");\n",
    "    }        \n",
    "}"
   ]
  },
  {
   "attachments": {},
   "cell_type": "markdown",
   "metadata": {},
   "source": [
    "In this scenario, I am re-using the *line* variable, because I don't intend to\n",
    "check what the user chose for their first choice again.  If you want choices to\n",
    "matter further down the line, rather than immediately, you'll need multiple\n",
    "variables to store them!\n",
    "\n",
    "Our second option, West, will be a dead-end.  We want to use an\n",
    "else-if here, because otherwise we won't be able to use an else statement right afterwards."
   ]
  },
  {
   "cell_type": "code",
   "execution_count": 28,
   "metadata": {
    "vscode": {
     "languageId": "java"
    }
   },
   "outputs": [
    {
     "ename": "CompilationException",
     "evalue": "",
     "output_type": "error",
     "traceback": [
      "\u001b[1m\u001b[30m|   \u001b[1m\u001b[30melse \u001b[0m\u001b[1m\u001b[30m\u001b[41mif(line.equals(\"West\")) {\u001b[0m",
      "\u001b[1m\u001b[30m|   \u001b[1m\u001b[30m\u001b[41m    System.out.println(\"you went West.  Wrong way!\");\u001b[0m",
      "\u001b[1m\u001b[30m|   \u001b[1m\u001b[30m\u001b[41m}\u001b[0m",
      "\u001b[1m\u001b[31mreached end of file while parsing\u001b[0m",
      ""
     ]
    }
   ],
   "source": [
    "else if(line.equals(\"West\")) {\n",
    "    System.out.println(\"you went West.  Wrong way!\");\n",
    "}"
   ]
  },
  {
   "attachments": {},
   "cell_type": "markdown",
   "metadata": {},
   "source": [
    "This else ensures that if the user enters an invalid option, the program doesn't\n",
    "quit without giving any sort of feedback to the user."
   ]
  },
  {
   "cell_type": "code",
   "execution_count": null,
   "metadata": {
    "vscode": {
     "languageId": "java"
    }
   },
   "outputs": [],
   "source": [
    "else {\n",
    "    System.out.println(\"I didn’t understand that\");\n",
    "}"
   ]
  },
  {
   "attachments": {},
   "cell_type": "markdown",
   "metadata": {},
   "source": [
    "## Expected Output (Example)\n",
    "\n",
    "You find yourself in an empty room.  Exits are North and East.\n",
    "\n",
    "What do you do? (North/East) : North\n",
    "\n",
    "You exit to the North.  You are in a kitchen decorated with retro-chic odds and\n",
    "ends all over the walls.  There are dozens of food processors arrayed on the\n",
    "counter.  There is milk and a bucket of blueberries in the fridge.  There is an\n",
    "exit to the West.\n",
    "\n",
    "What do you do? (Make smoothie/West)\n",
    "\n",
    "Make smoothie\n",
    "\n",
    "You plug in one of the food processors, empty the blueberries and milk into it, plug it in, and push “Low”.  The processor grinds to life.  Emboldened, you push the button labeled “High”.  The processor begins to overheat and smoke belches into the kitchen.  Your smoothie is ruined.  GAME OVER.\n",
    "\n",
    "## Submission\n",
    "Please zip up your entire project folder and submit it to the myProctor dropbox by 11:59 PM on the due date.  The dropbox is located on the page for this assignment.\n"
   ]
  }
 ],
 "metadata": {
  "kernelspec": {
   "display_name": "Java",
   "language": "java",
   "name": "java"
  },
  "language_info": {
   "codemirror_mode": "java",
   "file_extension": ".jshell",
   "mimetype": "text/x-java-source",
   "name": "Java",
   "pygments_lexer": "java",
   "version": "17.0.6+10-LTS"
  },
  "orig_nbformat": 4,
  "vscode": {
   "interpreter": {
    "hash": "e7370f93d1d0cde622a1f8e1c04877d8463912d04d973331ad4851f04de6915a"
   }
  }
 },
 "nbformat": 4,
 "nbformat_minor": 2
}
