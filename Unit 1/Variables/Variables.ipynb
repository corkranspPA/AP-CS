{
 "cells": [
  {
   "cell_type": "markdown",
   "metadata": {},
   "source": [
    "# Variables\n",
    "`Variables` are used to store information to be referenced and manipulated in a\n",
    "computer program. They also provide a way of labeling data with a descriptive\n",
    "name, so our programs can be understood more clearly by the reader and\n",
    "ourselves. It is helpful to think of variables as containers that hold\n",
    "information. Their sole purpose is to label and store data in memory. This data\n",
    "can then be used throughout your program.\n",
    "\n",
    "They are not dissimilar to the variables you learned about in Algebra.  However,\n",
    "there are some additional rules and concepts to programming variables that we\n",
    "will be learning about throughout the year.\n",
    "\n",
    "## Creating Variables\n",
    "\n",
    "For starters, a Java variable must be `declared` and `initialized` before it can\n",
    "be used.  To declare a variable, you must supply the computer with a `data type`\n",
    "and an `identifier` (or 'name', if you prefer)."
   ]
  },
  {
   "cell_type": "code",
   "execution_count": null,
   "metadata": {
    "vscode": {
     "languageId": "java"
    }
   },
   "outputs": [],
   "source": [
    "//declaring a variable named age with a data type of int\n",
    "int age;"
   ]
  },
  {
   "cell_type": "markdown",
   "metadata": {},
   "source": [
    "The data type tells java what kind and the range of data that can be stored in a\n",
    "variable. The identifier tells Java that anytime we say the identifier, we are\n",
    "really referring to the value stored inside.\n",
    "\n",
    "Once a variable has been declared, you can then `assign` a value to it using the\n",
    "`assignment operator (=)`.  The first time you assign a value to a variable is\n",
    "often called `initializing`. An initialized variable is ready to be used in\n",
    "other parts of your program.\n",
    "\n",
    "Try altering the program below.  Run it, then change the assigned value to *age*\n",
    "to be your age and run it again to see the change."
   ]
  },
  {
   "cell_type": "code",
   "execution_count": null,
   "metadata": {
    "vscode": {
     "languageId": "java"
    }
   },
   "outputs": [],
   "source": [
    "int age; //declaration\n",
    "age = 99; //initial assignment\n",
    "System.out.println(\"I am \" + age + \" years old!\");"
   ]
  },
  {
   "cell_type": "markdown",
   "metadata": {},
   "source": [
    "If it seems odd to use a variable and concatenation in the above example,\n",
    "instead of just printing \"I am 99 years old!\", that's because it is! Run the\n",
    "example below for a more natural and useful example, relying on user input."
   ]
  },
  {
   "cell_type": "code",
   "execution_count": 1,
   "metadata": {
    "vscode": {
     "languageId": "java"
    }
   },
   "outputs": [
    {
     "name": "stdout",
     "output_type": "stream",
     "text": [
      "I am 12 years old!\n"
     ]
    }
   ],
   "source": [
    "Scanner scan = new Scanner(System.in);\n",
    "\n",
    "int age; //declaration\n",
    "age = scan.nextInt(); //initial assignment\n",
    "System.out.println(\"I am \" + age + \" years old!\");"
   ]
  },
  {
   "cell_type": "markdown",
   "metadata": {},
   "source": [
    "As a shortcut, be aware that you will commonly see code where a variable is\n",
    "declared and initialized on the same line of code.  It is optional, but\n",
    "recommended, as it tends to make code more readable."
   ]
  },
  {
   "cell_type": "code",
   "execution_count": null,
   "metadata": {
    "vscode": {
     "languageId": "java"
    }
   },
   "outputs": [],
   "source": [
    "Scanner scan = new Scanner(System.in);\n",
    "\n",
    "int age = scan.nextInt(); //declaration and initialization on the same line\n",
    "System.out.println(\"I am \" + age + \" years old!\");"
   ]
  },
  {
   "cell_type": "markdown",
   "metadata": {},
   "source": [
    "You may also declare and assign multiple variables of the same type on one line.  This\n",
    "is most common when all the variables are closely related."
   ]
  },
  {
   "cell_type": "code",
   "execution_count": 10,
   "metadata": {
    "vscode": {
     "languageId": "java"
    }
   },
   "outputs": [
    {
     "name": "stdout",
     "output_type": "stream",
     "text": [
      "Rectangle area is 9.625\n"
     ]
    }
   ],
   "source": [
    "double rectLength = 5.5, rectWidth = 1.75;\n",
    "System.out.println(\"Rectangle area is \" + rectWidth * rectLength);"
   ]
  },
  {
   "cell_type": "markdown",
   "metadata": {},
   "source": [
    "## Reusing variables\n",
    "Variables can be `reassigned` at will with the assignment operator. Keep in mind\n",
    "that reassigning variable will delete the old value permanently."
   ]
  },
  {
   "cell_type": "code",
   "execution_count": null,
   "metadata": {
    "vscode": {
     "languageId": "java"
    }
   },
   "outputs": [],
   "source": [
    "int x = 2;\n",
    "System.out.println(\"x is \" + x);\n",
    "x = 6;\n",
    "System.out.println(\"Now, x is \" + x);\n",
    "x = 32 / 2;\n",
    "System.out.println(\"Finally, x is \" + x);"
   ]
  },
  {
   "cell_type": "markdown",
   "metadata": {},
   "source": [
    "Do not provide the computer with a data type unless you are declaring a new\n",
    "variable! In the example below, the computer believes you are trying to assign\n",
    "multiple variables with the same identifier, which will cause an error.\n",
    "Variable names must be unique, or else how can the computer know which one we\n",
    "mean to use?"
   ]
  },
  {
   "cell_type": "code",
   "execution_count": 8,
   "metadata": {
    "vscode": {
     "languageId": "java"
    }
   },
   "outputs": [
    {
     "name": "stdout",
     "output_type": "stream",
     "text": [
      "15\n",
      "3\n"
     ]
    }
   ],
   "source": [
    "int x = 15;\n",
    "System.out.println(x);\n",
    "int x = 3;\n",
    "System.out.println(x);\n",
    "\n",
    "//NOTE: When run anywhere else, this should produce an error stating \"Error: java: variable x is\n",
    "//already defined\" on line 3, but it does not do so in this document!"
   ]
  },
  {
   "cell_type": "markdown",
   "metadata": {},
   "source": [
    "## Naming conventions\n",
    "\n",
    "* Except for constants, all variables are in mixed case\n",
    "with a lowercase first letter.\n",
    "* Internal words start with capital letters.\n",
    "* Variable names should not start with underscore _ or dollar sign $ characters,\n",
    "even though both are allowed.\n",
    "* Variable names should be short yet meaningful. The\n",
    "choice of a variable name should be mnemonic- that is, designed to indicate to\n",
    "the casual observer the intent of its use.\n",
    "* One-character variable names should\n",
    "be avoided except for temporary \"throwaway\" variables. Common names for\n",
    "temporary variables are i, j, k, m, and n for integers; c, d, and e for\n",
    "characters."
   ]
  },
  {
   "cell_type": "code",
   "execution_count": null,
   "metadata": {
    "vscode": {
     "languageId": "java"
    }
   },
   "outputs": [],
   "source": [
    "//Acceptable names\n",
    "int averageGrade;\n",
    "String userName;\n",
    "int score;\n",
    "double cost;\n",
    "Player player1, player2;\n",
    "double sideA, sideB, sideC;\n",
    "int numPillowsOnCouch;"
   ]
  }
 ],
 "metadata": {
  "kernelspec": {
   "display_name": "Java",
   "language": "java",
   "name": "java"
  },
  "language_info": {
   "codemirror_mode": "java",
   "file_extension": ".jshell",
   "mimetype": "text/x-java-source",
   "name": "Java",
   "pygments_lexer": "java",
   "version": "17.0.8+7-LTS"
  },
  "orig_nbformat": 4
 },
 "nbformat": 4,
 "nbformat_minor": 2
}
