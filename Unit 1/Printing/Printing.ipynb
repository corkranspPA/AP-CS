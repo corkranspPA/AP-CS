{
 "cells": [
  {
   "attachments": {},
   "cell_type": "markdown",
   "metadata": {},
   "source": [
    "# Printing\n",
    "\n",
    "Printing is arguably the most basic way of conveying information to\n",
    "a user. While this form of output is increasingly rare in popular consumer apps, we will be\n",
    "using it throughout the entire year, thanks to its simplicity and ease of use\n",
    "for learning programming."
   ]
  },
  {
   "cell_type": "code",
   "execution_count": 1,
   "metadata": {
    "vscode": {
     "languageId": "java"
    }
   },
   "outputs": [
    {
     "name": "stdout",
     "output_type": "stream",
     "text": [
      "Whatever you are, be a good one.\n"
     ]
    }
   ],
   "source": [
    "System.out.println(\"Whatever you are, be a good one.\");"
   ]
  },
  {
   "attachments": {},
   "cell_type": "markdown",
   "metadata": {},
   "source": [
    "This statement demonstrates printing in Java. The `System.out` object\n",
    "represents an output device or file, which by default is the monitor screen. To\n",
    "be more precise, the object’s name is `out` and it is stored in the `System`\n",
    "class. We will be exploring the relationship between objects and classes in Unit 2.\n",
    "\n",
    "The `println` method is a service that the `System.out` object performs for\n",
    "us. Whenever we request it, the object will print a character string to the\n",
    "screen. We can say that we send the print in message to the `System.out` object to\n",
    "request that some text be printed.\n",
    "\n",
    "Each piece of data that we send to a method\n",
    "is called a `parameter`. In this case, the println method takes only one parameter: the string to be printed."
   ]
  },
  {
   "cell_type": "code",
   "execution_count": null,
   "metadata": {
    "vscode": {
     "languageId": "java"
    }
   },
   "outputs": [],
   "source": [
    "// Try printing out your name"
   ]
  },
  {
   "cell_type": "markdown",
   "metadata": {},
   "source": [
    "## println vs. print\n",
    "You should know that there are actually two print methods available: `println`\n",
    "and `print`.  Let's see if we can figure out the difference between them."
   ]
  },
  {
   "cell_type": "code",
   "execution_count": null,
   "metadata": {
    "vscode": {
     "languageId": "java"
    }
   },
   "outputs": [],
   "source": [
    "System.out.print(\"Three... \");\n",
    "System.out.print(\"Two... \");\n",
    "System.out.print(\"One... \");\n",
    "System.out.println(\"Liftoff!\");\n",
    "System.out.println(\"Houston, we have a problem.\");"
   ]
  },
  {
   "cell_type": "markdown",
   "metadata": {},
   "source": [
    "`print` will only print the provided string, whereas `println` will print the\n",
    "provided string followed by a `newline` character - this is the equivalent of\n",
    "hitting `Enter` on your keyboard (or typewriter!).  You can print your own\n",
    "newline characters using the `escape character (\\)`."
   ]
  },
  {
   "cell_type": "code",
   "execution_count": 1,
   "metadata": {
    "vscode": {
     "languageId": "java"
    }
   },
   "outputs": [
    {
     "name": "stdout",
     "output_type": "stream",
     "text": [
      "I knew you were trouble when you walked in\n",
      "-Taylor Swift"
     ]
    }
   ],
   "source": [
    "System.out.print(\"I knew you were trouble when you walked in\\n-Taylor Swift\");"
   ]
  },
  {
   "cell_type": "markdown",
   "metadata": {},
   "source": [
    "## Escape commands\n",
    "What if you wanted to print a quotation mark? Or a tab character?"
   ]
  },
  {
   "cell_type": "code",
   "execution_count": 2,
   "metadata": {
    "vscode": {
     "languageId": "java"
    }
   },
   "outputs": [
    {
     "ename": "IncompleteSourceException",
     "evalue": "System.out.println(\"\"\");",
     "output_type": "error",
     "traceback": [
      "\u001b[1m\u001b[31mIncomplete input:\u001b[0m",
      "\u001b[1m\u001b[30m|   \u001b[1m\u001b[30mSystem.out.println(\"\"\");\u001b[0m"
     ]
    }
   ],
   "source": [
    "System.out.println(\"\"\");"
   ]
  },
  {
   "cell_type": "markdown",
   "metadata": {},
   "source": [
    "The solution you might expect doesn't work!  The issue is that the computer\n",
    "doesn't realize the middle quotation mark is supposed to be printed.  It thinks\n",
    "you are ending the string literal, then it gets confused when it sees another\n",
    "quotation mark with no partner and throws an error.\n",
    "\n",
    "The real solution is to use an `escape command`, which looks like this:"
   ]
  },
  {
   "cell_type": "code",
   "execution_count": null,
   "metadata": {
    "vscode": {
     "languageId": "java"
    }
   },
   "outputs": [],
   "source": [
    "System.out.println(\"\\\"\");"
   ]
  },
  {
   "cell_type": "markdown",
   "metadata": {},
   "source": [
    "The `backslash`, located between the Backspace and Enter keys on your keyboard\n",
    "(Delete and Return keys on a MacBook!) allows us to tell the computer that the\n",
    "very next character we type won't really be text, it will be a command.  If\n",
    "you've ever used minecraft commands, discord commands, or even emoji shortcuts,\n",
    "this concept should be somewhat familiar."
   ]
  },
  {
   "cell_type": "code",
   "execution_count": 6,
   "metadata": {
    "vscode": {
     "languageId": "java"
    }
   },
   "outputs": [
    {
     "name": "stdout",
     "output_type": "stream",
     "text": [
      "\"The woods are lovely, dark and deep,\n",
      "But I have promises to keep,\n",
      "And miles to go before I sleep,\n",
      "And miles to go before I sleep.\"\n",
      "\t-Famed American Poet Snoop Dogg\n"
     ]
    }
   ],
   "source": [
    "System.out.println(\"\\\"The woods are lovely, dark and deep,\\n\" +\n",
    "    \"But I have promises to keep,\\n\" + \n",
    "    \"And miles to go before I sleep,\\n\" + \n",
    "    \"And miles to go before I sleep.\\\"\\n\" +\n",
    "    \"\\t-Famed American Poet Snoop Dogg\");"
   ]
  },
  {
   "cell_type": "markdown",
   "metadata": {},
   "source": [
    "You should know the following escape commands for AP:CS A:\n",
    "\n",
    "\\n - newline character\\\n",
    "\\t - tab character\\\n",
    "\\\" - quotation mark (for strings)\\\n",
    "\\\\ - backslash\\\n",
    "\n",
    "Its also good to know:\n",
    "\n",
    "\\b - backspace character\\\n",
    "\\r - carriage return\\\n",
    "\\f - form feed\\\n",
    "\\' - apostrophe (for chars)\\\n",
    "\n",
    "But they are unlikely to show up on either this course or the AP exam."
   ]
  }
 ],
 "metadata": {
  "kernelspec": {
   "display_name": "Java",
   "language": "java",
   "name": "java"
  },
  "language_info": {
   "codemirror_mode": "java",
   "file_extension": ".jshell",
   "mimetype": "text/x-java-source",
   "name": "Java",
   "pygments_lexer": "java",
   "version": "17.0.8+7-LTS"
  },
  "orig_nbformat": 4,
  "vscode": {
   "interpreter": {
    "hash": "e7370f93d1d0cde622a1f8e1c04877d8463912d04d973331ad4851f04de6915a"
   }
  }
 },
 "nbformat": 4,
 "nbformat_minor": 2
}
