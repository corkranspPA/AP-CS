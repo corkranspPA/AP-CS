{
 "cells": [
  {
   "cell_type": "markdown",
   "metadata": {},
   "source": [
    "# String\n",
    "A character `string` is an object in Java, defined by the class String. Because\n",
    "strings are so fundamental to computer programming, Java provides the ability\n",
    "to use a `string literal`, delimited by double quotation characters (`\"\"`). We explore the String class and its methods in more detail in\n",
    "Chapter 3.\n",
    "\n",
    "The following are all valid examples of a string:\n",
    "```java\n",
    "\"The quick brown fox jumped over the lazy dog\"\n",
    "\"602 Greenbriar Court, Chalfont PA 18914\"\n",
    "\"x\"\n",
    "\"\"\n",
    "```\n",
    "\n",
    "A string literal can contain any valid characters, including numeric digits,\n",
    "punctuation, and other special characters. The last example above contains no\n",
    "characters at all!\n",
    "\n",
    "## String Concatenation\n",
    "The `+` operator can be used between strings to combine them. This is called `concatenation`."
   ]
  },
  {
   "cell_type": "code",
   "execution_count": 6,
   "metadata": {
    "vscode": {
     "languageId": "java"
    }
   },
   "outputs": [
    {
     "name": "stdout",
     "output_type": "stream",
     "text": [
      "John Doe\n"
     ]
    }
   ],
   "source": [
    "System.out.println(\"John\" + \" \" + \"Doe\");"
   ]
  },
  {
   "cell_type": "markdown",
   "metadata": {},
   "source": [
    "Why would we ever want to assemble a string using concatenation like this? Well,\n",
    "this is skipping ahead a little bit, but try the following code.  When you run\n",
    "the code cell below, you must type in a name in the prompt\n",
    "above 👆."
   ]
  },
  {
   "cell_type": "code",
   "execution_count": 7,
   "metadata": {
    "vscode": {
     "languageId": "java"
    }
   },
   "outputs": [
    {
     "name": "stdout",
     "output_type": "stream",
     "text": [
      "Hello, !\n"
     ]
    }
   ],
   "source": [
    "Scanner scan = new Scanner(System.in);\n",
    "String name = scan.nextLine();\n",
    "System.out.println(\"Hello, \" + name + \"!\");"
   ]
  },
  {
   "cell_type": "markdown",
   "metadata": {},
   "source": [
    "As shown in these examples, we can use unknown variables and known strings\n",
    "together with concatenation to make our\n",
    "programs work in different ways each time they are run."
   ]
  },
  {
   "cell_type": "code",
   "execution_count": 24,
   "metadata": {
    "vscode": {
     "languageId": "java"
    }
   },
   "outputs": [
    {
     "name": "stdout",
     "output_type": "stream",
     "text": [
      "You rolled a: 15\n"
     ]
    }
   ],
   "source": [
    "int roll = (int)(Math.random() * 100) + 1;\n",
    "System.out.println(\"You rolled a: \" + roll);"
   ]
  }
 ],
 "metadata": {
  "kernelspec": {
   "display_name": "Java",
   "language": "java",
   "name": "java"
  },
  "language_info": {
   "codemirror_mode": "java",
   "file_extension": ".jshell",
   "mimetype": "text/x-java-source",
   "name": "Java",
   "pygments_lexer": "java",
   "version": "17.0.8+7-LTS"
  },
  "orig_nbformat": 4
 },
 "nbformat": 4,
 "nbformat_minor": 2
}
